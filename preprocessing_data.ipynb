{
 "cells": [
  {
   "cell_type": "code",
   "execution_count": 1,
   "id": "452500b9-49a4-444f-9089-f47ad2920986",
   "metadata": {},
   "outputs": [],
   "source": [
    "import pandas as pd\n",
    "import datetime"
   ]
  },
  {
   "cell_type": "code",
   "execution_count": 2,
   "id": "7e807659-7b03-4b29-b53e-4afdeeb5a136",
   "metadata": {
    "tags": []
   },
   "outputs": [
    {
     "name": "stderr",
     "output_type": "stream",
     "text": [
      "<ipython-input-2-e27a9ddabc56>:1: ParserWarning: Falling back to the 'python' engine because the 'c' engine does not support regex separators (separators > 1 char and different from '\\s+' are interpreted as regex); you can avoid this warning by specifying engine='python'.\n",
      "  df = pd.read_csv('Connections.csv',sep='delimiter')\n"
     ]
    }
   ],
   "source": [
    "# read connections\n",
    "df = pd.read_csv('Connections.csv',sep='delimiter')"
   ]
  },
  {
   "cell_type": "code",
   "execution_count": 3,
   "id": "56be8f95-00b0-4b66-968e-749f5ab5d60f",
   "metadata": {
    "tags": []
   },
   "outputs": [
    {
     "data": {
      "text/html": [
       "<div>\n",
       "<style scoped>\n",
       "    .dataframe tbody tr th:only-of-type {\n",
       "        vertical-align: middle;\n",
       "    }\n",
       "\n",
       "    .dataframe tbody tr th {\n",
       "        vertical-align: top;\n",
       "    }\n",
       "\n",
       "    .dataframe thead th {\n",
       "        text-align: right;\n",
       "    }\n",
       "</style>\n",
       "<table border=\"1\" class=\"dataframe\">\n",
       "  <thead>\n",
       "    <tr style=\"text-align: right;\">\n",
       "      <th></th>\n",
       "      <th>Notes:</th>\n",
       "    </tr>\n",
       "  </thead>\n",
       "  <tbody>\n",
       "    <tr>\n",
       "      <th>0</th>\n",
       "      <td>\"When exporting your connection data, you may ...</td>\n",
       "    </tr>\n",
       "    <tr>\n",
       "      <th>1</th>\n",
       "      <td>First Name,Last Name,Email Address,Company,Pos...</td>\n",
       "    </tr>\n",
       "    <tr>\n",
       "      <th>2</th>\n",
       "      <td>Vahideh,Dashti,,Bozhan School,Product Manager,...</td>\n",
       "    </tr>\n",
       "    <tr>\n",
       "      <th>3</th>\n",
       "      <td>Mohammad,Arshad,arshadhp@gmail.com,Majid Al Fu...</td>\n",
       "    </tr>\n",
       "    <tr>\n",
       "      <th>4</th>\n",
       "      <td>Daniel,Lee,,DataInterview.com,Founder,17 Aug 2022</td>\n",
       "    </tr>\n",
       "  </tbody>\n",
       "</table>\n",
       "</div>"
      ],
      "text/plain": [
       "                                              Notes:\n",
       "0  \"When exporting your connection data, you may ...\n",
       "1  First Name,Last Name,Email Address,Company,Pos...\n",
       "2  Vahideh,Dashti,,Bozhan School,Product Manager,...\n",
       "3  Mohammad,Arshad,arshadhp@gmail.com,Majid Al Fu...\n",
       "4  Daniel,Lee,,DataInterview.com,Founder,17 Aug 2022"
      ]
     },
     "execution_count": 3,
     "metadata": {},
     "output_type": "execute_result"
    }
   ],
   "source": [
    "df.head()"
   ]
  },
  {
   "cell_type": "code",
   "execution_count": 4,
   "id": "10776fa8-7d14-4392-a932-c04cf06ffda7",
   "metadata": {},
   "outputs": [],
   "source": [
    "# drop uneeded columns \n",
    "df = df['Notes:'].str.split(',', expand=True).rename(columns = lambda x: \"string\"+str(x+1))\n",
    "df2 = df[['string1','string2','string4','string5','string6']]\n",
    "# df2 = df2[2:]"
   ]
  },
  {
   "cell_type": "code",
   "execution_count": 5,
   "id": "9cc624e5-8ddc-4a75-8c30-b160ebda8e35",
   "metadata": {},
   "outputs": [
    {
     "data": {
      "text/plain": [
       "string1      First Name\n",
       "string2       Last Name\n",
       "string4         Company\n",
       "string5        Position\n",
       "string6    Connected On\n",
       "Name: 1, dtype: object"
      ]
     },
     "execution_count": 5,
     "metadata": {},
     "output_type": "execute_result"
    }
   ],
   "source": [
    "df2.iloc[1]"
   ]
  },
  {
   "cell_type": "code",
   "execution_count": 12,
   "id": "6ffb2f23-23df-41c2-92da-a2fcdf76b19e",
   "metadata": {},
   "outputs": [],
   "source": [
    "# rename columns \n",
    "df2.rename({'string1':'First Name','string2':'Last Name','string4':'Company','string5':'Position','string6':'Connected On'}, axis=1, inplace=True)\n",
    "df = df2[2:]"
   ]
  },
  {
   "cell_type": "code",
   "execution_count": 14,
   "id": "180f2c01-551a-4076-b4c4-6db10a2ecbff",
   "metadata": {},
   "outputs": [],
   "source": [
    "df.to_csv('Connections.csv',index=False)"
   ]
  },
  {
   "cell_type": "code",
   "execution_count": 9,
   "id": "12e912d3-43dc-4b13-8c98-b10159378c41",
   "metadata": {},
   "outputs": [],
   "source": [
    "df = pd.read_csv('Connections.csv')"
   ]
  },
  {
   "cell_type": "code",
   "execution_count": 12,
   "id": "cd2fd79c-0221-4ff8-9d31-879ae770be25",
   "metadata": {},
   "outputs": [
    {
     "data": {
      "text/plain": [
       "First Name      object\n",
       "Last Name       object\n",
       "Company         object\n",
       "Position        object\n",
       "Connected On    object\n",
       "dtype: object"
      ]
     },
     "execution_count": 12,
     "metadata": {},
     "output_type": "execute_result"
    }
   ],
   "source": [
    "df.dtypes"
   ]
  },
  {
   "cell_type": "code",
   "execution_count": 71,
   "id": "01f43564-f5e7-4c65-b7eb-4a56e84779ba",
   "metadata": {},
   "outputs": [],
   "source": [
    "df['Connected On'] = df['Connected On'].fillna('16 Apr 2022')"
   ]
  },
  {
   "cell_type": "code",
   "execution_count": 73,
   "id": "4d30d6eb-49be-4537-adc5-88fb42636c67",
   "metadata": {},
   "outputs": [],
   "source": [
    "df.to_csv('Connections.csv',index=False)"
   ]
  },
  {
   "cell_type": "code",
   "execution_count": 2,
   "id": "8b22a71d-9321-4b45-93f0-e143e1e322fd",
   "metadata": {},
   "outputs": [],
   "source": [
    "df = pd.read_csv('Invitations.csv')"
   ]
  },
  {
   "cell_type": "code",
   "execution_count": 5,
   "id": "06c9e775-62ac-448f-9199-5a370453fa38",
   "metadata": {},
   "outputs": [
    {
     "data": {
      "text/plain": [
       "OUTGOING    499\n",
       "INCOMING     36\n",
       "Name: Direction, dtype: int64"
      ]
     },
     "execution_count": 5,
     "metadata": {},
     "output_type": "execute_result"
    }
   ],
   "source": [
    "df['Direction'].value_counts()"
   ]
  },
  {
   "cell_type": "code",
   "execution_count": 26,
   "id": "5bddd266-0dd1-493a-9e8e-300af510a089",
   "metadata": {},
   "outputs": [],
   "source": [
    "# convert date time\n",
    "def convert_date(date):\n",
    "    date_splitd = date.split(',')\n",
    "    txt = datetime.datetime.strptime(date_splitd[0],'%m/%d/%y')\n",
    "    return txt"
   ]
  },
  {
   "cell_type": "code",
   "execution_count": 27,
   "id": "5be4649c-4f3f-4306-a76a-04f773223430",
   "metadata": {},
   "outputs": [],
   "source": [
    "# apply convert_date to Sent At \n",
    "df['Sent At'] = df['Sent At'].apply(lambda x:convert_date(x))"
   ]
  },
  {
   "cell_type": "code",
   "execution_count": 29,
   "id": "192865fd-5fe6-466b-89f7-d1f935f0094d",
   "metadata": {},
   "outputs": [],
   "source": [
    "df.to_csv('Invitations.csv',index=False)"
   ]
  }
 ],
 "metadata": {
  "kernelspec": {
   "display_name": "tf25",
   "language": "python",
   "name": "tf25"
  },
  "language_info": {
   "codemirror_mode": {
    "name": "ipython",
    "version": 3
   },
   "file_extension": ".py",
   "mimetype": "text/x-python",
   "name": "python",
   "nbconvert_exporter": "python",
   "pygments_lexer": "ipython3",
   "version": "3.8.10"
  }
 },
 "nbformat": 4,
 "nbformat_minor": 5
}
